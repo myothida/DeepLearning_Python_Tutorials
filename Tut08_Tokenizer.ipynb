{
 "cells": [
  {
   "cell_type": "markdown",
   "metadata": {},
   "source": [
    "### **Tutorial 08: Tokenizer**\n",
    "\n",
    "This tutorial explains the concept of a tokenizer and demonstrates how to implement and use a basic character-level tokenizer in Python. A tokenizer is a tool that converts text into tokens (smaller units, such as words or characters) and, in some cases, converts those tokens back into text.\n",
    "\n",
    "In this tutorial, we build \n",
    "- 1). A character-level tokenizer that works at the character granularity, encoding each character as a unique token ID and decoding token IDs back to text.\n",
    "- 2). A word-level tokenizer that works at the word granularity, encoding each word as a unique token ID and decoding token IDs back to text.\n",
    "- 3). An n-grams tokenizer that generates sequences of tokens based on an n-grams approach, a fundamental concept in language modeling."
   ]
  },
  {
   "cell_type": "code",
   "execution_count": null,
   "metadata": {},
   "outputs": [],
   "source": [
    "import torch\n",
    "import torch.nn as nn\n",
    "import torch.nn.functional as F\n",
    "\n",
    "device = torch.device(\"cuda\" if torch.cuda.is_available() else \"cpu\")\n",
    "print(f\"Using device: {device}\")"
   ]
  },
  {
   "cell_type": "code",
   "execution_count": 15,
   "metadata": {},
   "outputs": [],
   "source": [
    "import torch\n",
    "import numpy as np\n",
    "class CharTokenizer:\n",
    "  def __init__(self, vocabulary):\n",
    "    self.token_id_for_char = {char: token_id for token_id, char in enumerate(vocabulary)}\n",
    "    self.char_for_token_id = {token_id: char for token_id, char in enumerate(vocabulary)}\n",
    "\n",
    "  @staticmethod\n",
    "  def train_from_text(text):\n",
    "    vocabulary = set(text) # remove duplicates\n",
    "    return CharTokenizer(sorted(list(vocabulary)))\n",
    "\n",
    "  def encode(self, text):\n",
    "    token_ids = []\n",
    "    for char in text:\n",
    "      token_ids.append(self.token_id_for_char[char])\n",
    "    return torch.tensor(token_ids, dtype=torch.long)\n",
    "\n",
    "  def decode(self, token_ids):\n",
    "    chars = []\n",
    "    for token_id in token_ids.tolist():\n",
    "      chars.append(self.char_for_token_id[token_id])\n",
    "    return ''.join(chars)\n",
    "\n",
    "\n",
    "  def vocabulary_size(self):\n",
    "    return len(self.token_id_for_char)"
   ]
  },
  {
   "cell_type": "code",
   "execution_count": 16,
   "metadata": {},
   "outputs": [],
   "source": [
    "class WordTokenizer:\n",
    "    def __init__(self, vocabulary):\n",
    "        self.token_id_for_word = {word: token_id for token_id, word in enumerate(vocabulary)}\n",
    "        self.word_for_token_id = {token_id: word for token_id, word in enumerate(vocabulary)}\n",
    "\n",
    "    @staticmethod\n",
    "    def train_from_text(text):\n",
    "        \"\"\"Create a tokenizer from the unique words in the given text.\"\"\"\n",
    "        words = set(text.split())  # Split text into words and remove duplicates\n",
    "        return WordTokenizer(sorted(list(words)))\n",
    "\n",
    "    def encode(self, text):\n",
    "        \"\"\"Convert a string of text into a tensor of token IDs.\"\"\"\n",
    "        token_ids = [self.token_id_for_word[word] for word in text.split()]\n",
    "        return torch.tensor(token_ids, dtype=torch.long)\n",
    "\n",
    "    def decode(self, token_ids):\n",
    "        \"\"\"Convert a tensor of token IDs back into a string of text.\"\"\"\n",
    "        return ' '.join([self.word_for_token_id[token_id] for token_id in token_ids.tolist()])\n",
    "\n",
    "    def vocabulary_size(self):\n",
    "        \"\"\"Return the size of the tokenizer's vocabulary.\"\"\"\n",
    "        return len(self.token_id_for_word)"
   ]
  },
  {
   "cell_type": "code",
   "execution_count": 17,
   "metadata": {},
   "outputs": [],
   "source": [
    "class NGramsTokenizer:\n",
    "    def __init__(self, n):\n",
    "        self.n = n\n",
    "\n",
    "    def generate_ngrams(self, tokens):\n",
    "        \"\"\"Generate n-grams from a sequence of tokens.\"\"\"\n",
    "        ngrams = [\n",
    "            tokens[i:i+self.n]\n",
    "            for i in range(len(tokens) - self.n + 1)\n",
    "        ]\n",
    "        return ngrams\n"
   ]
  },
  {
   "cell_type": "code",
   "execution_count": 20,
   "metadata": {},
   "outputs": [],
   "source": [
    "def is_extraction_successful(text):\n",
    "    if isinstance(text, str) and text.strip():\n",
    "        return True\n",
    "    return False"
   ]
  },
  {
   "cell_type": "code",
   "execution_count": null,
   "metadata": {},
   "outputs": [],
   "source": [
    "from utils import text_helper\n",
    "\n",
    "url = \"https://medium.com/letters-to-my-younger-self-embracing-emotions-and/bridging-theory-and-practice-1b277456400d\"  \n",
    "text = text_helper.extract_medium_post_content(url)\n",
    "if not is_extraction_successful(text):\n",
    "    print(\"Failed to extract valid content from the URL.\")\n",
    "else:\n",
    "    print(\"Content successfully extracted.\")\n",
    "\n",
    "tokenizer = CharTokenizer.train_from_text(text)\n",
    "\n",
    "char_tokenizer = CharTokenizer.train_from_text(text)\n",
    "encoded = char_tokenizer.encode(\"Hello world\")\n",
    "print(encoded)\n",
    "\n",
    "ngrams_tokenizer = NGramsTokenizer(n=3)\n",
    "ngrams = ngrams_tokenizer.generate_ngrams(encoded)\n",
    "print(\"Character-level n-grams:\", ngrams)\n",
    "\n",
    "text = \"the quick brown fox\"\n",
    "word_tokenizer = WordTokenizer.train_from_text(text)\n",
    "encoded = word_tokenizer.encode(text)\n",
    "print(encoded)\n",
    "\n",
    "ngrams_tokenizer = NGramsTokenizer(n=2)\n",
    "ngrams = ngrams_tokenizer.generate_ngrams(encoded)\n",
    "print(\"Word-level n-grams:\", ngrams)\n",
    "\n"
   ]
  },
  {
   "cell_type": "code",
   "execution_count": 8,
   "metadata": {},
   "outputs": [],
   "source": [
    "from torch.utils.data import DataLoader, RandomSampler\n",
    "from utils import sequence_pairs_dataset\n",
    "tokenized_text = tokenizer.encode(text)\n",
    "dataset = sequence_pairs_dataset.SequencePairsDataset(tokenized_text, block_size=64)\n",
    "print(len(dataset))\n",
    "\n",
    "sampler = RandomSampler(dataset, replacement=True)\n",
    "dataloader = DataLoader(dataset, batch_size=2, sampler=sampler)\n",
    "x, y = next(iter(dataloader))\n",
    "tokenizer.decode(x[0])\n",
    "tokenizer.decode(y[0])"
   ]
  }
 ],
 "metadata": {
  "kernelspec": {
   "display_name": ".venv",
   "language": "python",
   "name": "python3"
  },
  "language_info": {
   "codemirror_mode": {
    "name": "ipython",
    "version": 3
   },
   "file_extension": ".py",
   "mimetype": "text/x-python",
   "name": "python",
   "nbconvert_exporter": "python",
   "pygments_lexer": "ipython3",
   "version": "3.12.2"
  }
 },
 "nbformat": 4,
 "nbformat_minor": 2
}
