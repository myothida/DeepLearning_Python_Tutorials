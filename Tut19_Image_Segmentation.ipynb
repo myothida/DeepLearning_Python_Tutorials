{
 "cells": [
  {
   "cell_type": "code",
   "execution_count": null,
   "id": "b64bf612",
   "metadata": {},
   "outputs": [],
   "source": [
    "import cv2\n",
    "import matplotlib.pyplot as plt\n",
    "from ultralytics import SAM\n",
    "import numpy as np\n",
    "\n",
    "model = SAM('sam_b.pt')\n",
    "\n",
    "image_path = './data/test_img_R.jpg' \n",
    "image = cv2.imread(image_path)\n",
    "image_rgb = cv2.cvtColor(image, cv2.COLOR_BGR2RGB) \n",
    "results = model(image_rgb)\n",
    "\n",
    "\n",
    "\n",
    "\n"
   ]
  },
  {
   "cell_type": "code",
   "execution_count": null,
   "id": "683ce852",
   "metadata": {},
   "outputs": [],
   "source": [
    "if results and results[0].masks is not None:\n",
    "    # Get the raw masks as a numpy array (HxWxN, where N is number of masks)\n",
    "    masks_tensor = results[0].masks.data\n",
    "    masks_np = masks_tensor.cpu().numpy() # Move to CPU and convert to NumPy\n",
    "\n",
    "    # Create a blank image to draw all masks on\n",
    "    masked_image = np.zeros_like(image_rgb, dtype=np.uint8)\n",
    "\n",
    "    # You can iterate through masks and draw them with random colors\n",
    "    for i, mask in enumerate(masks_np):\n",
    "        color = np.random.randint(0, 255, 3, dtype=np.uint8)\n",
    "        # Apply the mask: wherever mask is True, apply the color\n",
    "        masked_image[mask] = color\n",
    "\n",
    "    # You can blend the original image with the masks for a better visualization\n",
    "    alpha = 0.5 # Transparency of the masks\n",
    "    blended_image = cv2.addWeighted(image_rgb, 1, masked_image, alpha, 0)\n",
    "\n",
    "    plt.figure(figsize=(12, 6))\n",
    "    plt.subplot(1, 2, 1)\n",
    "    plt.imshow(image_rgb)\n",
    "    plt.title(\"Original Image\")\n",
    "    plt.axis('off')\n",
    "\n",
    "    plt.subplot(1, 2, 2)\n",
    "    plt.imshow(blended_image)\n",
    "    plt.title(\"Segmented Image\")\n",
    "    plt.axis('off')\n",
    "    plt.show()\n",
    "\n",
    "    print(f\"Found {len(masks_np)} segments.\")\n",
    "\n",
    "else:\n",
    "    print(\"No segments found or an issue occurred during segmentation.\")"
   ]
  }
 ],
 "metadata": {
  "kernelspec": {
   "display_name": ".venv",
   "language": "python",
   "name": "python3"
  },
  "language_info": {
   "codemirror_mode": {
    "name": "ipython",
    "version": 3
   },
   "file_extension": ".py",
   "mimetype": "text/x-python",
   "name": "python",
   "nbconvert_exporter": "python",
   "pygments_lexer": "ipython3",
   "version": "3.12.2"
  }
 },
 "nbformat": 4,
 "nbformat_minor": 5
}
