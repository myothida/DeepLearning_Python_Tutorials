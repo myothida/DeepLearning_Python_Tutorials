{
 "cells": [
  {
   "cell_type": "markdown",
   "metadata": {},
   "source": [
    "Tutorial 13: Building a Vanilla RNN with PyTorch for Sequential Data\n",
    "In this tutorial, we’ll learn how to build a vanilla Recurrent Neural Network (RNN) from scratch using PyTorch. A vanilla RNN is a type of neural network designed to process sequential data such as time series, text, or other ordered data. It has the ability to capture temporal dependencies by using its hidden state that gets updated as it processes each element in the sequence.\n",
    "\n",
    "We will:\n",
    "\n",
    "Understand the basics of vanilla RNNs.\n",
    "Build a simple RNN model.\n",
    "Train the model on a sequential dataset.\n",
    "Evaluate the model.\n",
    "Prerequisites\n",
    "Basic understanding of neural networks and RNNs.\n",
    "Install the following Python libraries: torch, numpy, matplotlib."
   ]
  },
  {
   "cell_type": "code",
   "execution_count": null,
   "metadata": {},
   "outputs": [
    {
     "ename": "ModuleNotFoundError",
     "evalue": "No module named 'kagglehub'",
     "output_type": "error",
     "traceback": [
      "\u001b[1;31m---------------------------------------------------------------------------\u001b[0m",
      "\u001b[1;31mModuleNotFoundError\u001b[0m                       Traceback (most recent call last)",
      "Cell \u001b[1;32mIn[1], line 6\u001b[0m\n\u001b[0;32m      3\u001b[0m \u001b[38;5;28;01mimport\u001b[39;00m \u001b[38;5;21;01mnumpy\u001b[39;00m \u001b[38;5;28;01mas\u001b[39;00m \u001b[38;5;21;01mnp\u001b[39;00m\n\u001b[0;32m      4\u001b[0m \u001b[38;5;28;01mimport\u001b[39;00m \u001b[38;5;21;01mmatplotlib\u001b[39;00m\u001b[38;5;21;01m.\u001b[39;00m\u001b[38;5;21;01mpyplot\u001b[39;00m \u001b[38;5;28;01mas\u001b[39;00m \u001b[38;5;21;01mplt\u001b[39;00m\n\u001b[1;32m----> 6\u001b[0m \u001b[38;5;28;01mimport\u001b[39;00m \u001b[38;5;21;01mkagglehub\u001b[39;00m\n\u001b[0;32m      8\u001b[0m path \u001b[38;5;241m=\u001b[39m kagglehub\u001b[38;5;241m.\u001b[39mdataset_download(\u001b[38;5;124m\"\u001b[39m\u001b[38;5;124msobhanmoosavi/us-accidents\u001b[39m\u001b[38;5;124m\"\u001b[39m)\n\u001b[0;32m     10\u001b[0m \u001b[38;5;28mprint\u001b[39m(\u001b[38;5;124m\"\u001b[39m\u001b[38;5;124mPath to dataset files:\u001b[39m\u001b[38;5;124m\"\u001b[39m, path)\n",
      "\u001b[1;31mModuleNotFoundError\u001b[0m: No module named 'kagglehub'"
     ]
    }
   ],
   "source": [
    "import torch\n",
    "import torch.nn as nn\n",
    "import numpy as np\n",
    "import matplotlib.pyplot as plt\n",
    "\n",
    "\n",
    "\n"
   ]
  },
  {
   "cell_type": "code",
   "execution_count": null,
   "metadata": {},
   "outputs": [],
   "source": [
    "from utils.sequentialdataset import SequentialDataset\n",
    "from torch.utils.data import Dataset, DataLoader, RandomSampler\n",
    "\n",
    "dataset = load_dataset('time_series', split='train') \n",
    "\n",
    "data = dataset['value'] \n",
    "data = torch.tensor(data, dtype=torch.float32)\n",
    "\n",
    "\n",
    "seq_len = 20\n",
    "label_len = 5\n",
    "\n",
    "\n",
    "seq_dataset = SequentialDataset(data, seq_len, label_len)\n",
    "\n",
    "batch_size = 32\n",
    "data_loader = DataLoader(seq_dataset, batch_size=batch_size, shuffle=True)\n",
    "\n",
    "# Inspect one batch\n",
    "for batch_idx, (inputs, labels) in enumerate(data_loader):\n",
    "    print(f\"Batch {batch_idx + 1}\")\n",
    "    print(f\"Inputs shape: {inputs.shape}\")  # Expected: (batch_size, seq_len)\n",
    "    print(f\"Labels shape: {labels.shape}\")  # Expected: (batch_size, label_len)\n",
    "    break"
   ]
  }
 ],
 "metadata": {
  "kernelspec": {
   "display_name": ".venv",
   "language": "python",
   "name": "python3"
  },
  "language_info": {
   "codemirror_mode": {
    "name": "ipython",
    "version": 3
   },
   "file_extension": ".py",
   "mimetype": "text/x-python",
   "name": "python",
   "nbconvert_exporter": "python",
   "pygments_lexer": "ipython3",
   "version": "3.12.2"
  }
 },
 "nbformat": 4,
 "nbformat_minor": 2
}
